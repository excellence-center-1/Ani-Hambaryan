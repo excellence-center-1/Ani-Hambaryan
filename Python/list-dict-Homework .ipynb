{
  "nbformat": 4,
  "nbformat_minor": 0,
  "metadata": {
    "colab": {
      "provenance": []
    },
    "kernelspec": {
      "name": "python3",
      "display_name": "Python 3"
    }
  },
  "cells": [
    {
      "cell_type": "markdown",
      "metadata": {
        "id": "GCEodKTbRd_r"
      },
      "source": [
        "# Homework Exercises"
      ]
    },
    {
      "cell_type": "markdown",
      "metadata": {
        "id": "sM2FU5TVqX3l"
      },
      "source": [
        "## Strings"
      ]
    },
    {
      "cell_type": "markdown",
      "metadata": {
        "id": "1WbPDB3mI7MO"
      },
      "source": [
        "1. Write a program that asks the user to enter a string. The program should then print the\n",
        "following:\n",
        "\n",
        "  * The total number of characters in the string\n",
        "  * The string repeated 10 times\n",
        "  * The first character of the string \n",
        "  * The first three characters of the string\n",
        "  * The last three characters of the string\n",
        "  * The string backwards\n",
        "\n",
        "  Գրել ծրագիր, որը օգտատիրոջ մուտքագրած տեքստի (string) համար կտպի հետևյալը․\n",
        "\n",
        "  * Ընդհանուր սիմվոլների քանակը\n",
        "  * տեքստը 10 անգամ կրկնած\n",
        "  * առաջին անդամը\n",
        "  * առաջին 3 անդամները\n",
        "  * վերջին 3 անդամները\n",
        "  * տեսքտը հակառակ շրջած"
      ]
    },
    {
      "cell_type": "code",
      "metadata": {
        "id": "TXQRhmFoI6-z",
        "colab": {
          "base_uri": "https://localhost:8080/"
        },
        "outputId": "2ac3266a-c9f9-463f-fe59-ad4e37ba7d9e"
      },
      "source": [
        "x = input(\"Write a text\\n\")\n",
        "print(\"1.The total number of characters in the string is \", len(x))\n",
        "print(\"2.\", (x+\" \")*10)\n",
        "print(\"3. The first character of the string is \", x[0])\n",
        "print(\"4. The first three characters of the string are \", x[:3])\n",
        "print(\"5. The last three characters of the string are \", x[-3:])\n",
        "print(\"6. The string backwards is \", x[::-1])"
      ],
      "execution_count": null,
      "outputs": [
        {
          "output_type": "stream",
          "name": "stdout",
          "text": [
            "Write a text\n",
            "Hello\n",
            "1.The total number of characters in the string is  5\n",
            "2. Hello Hello Hello Hello Hello Hello Hello Hello Hello Hello \n",
            "3. The first character of the string is  H\n",
            "4. The first three characters of the string are  Hel\n",
            "5. The last three characters of the string are  llo\n",
            "6. The string backwards is  olleH\n"
          ]
        }
      ]
    },
    {
      "cell_type": "markdown",
      "metadata": {
        "id": "hfFxrQ4YI6v7"
      },
      "source": [
        "2. Using for loop iterate through the string `Hello world` and count the number of 'l's in it.\n",
        "\n",
        "  Անցնել `Hello world` տեքստի վրայով և հաշվել դրա մեջ `l` տառի հաճախականությունը՝ օգտագործելով for ցիկլ։"
      ]
    },
    {
      "cell_type": "code",
      "metadata": {
        "id": "PoLfgh08VSHZ",
        "colab": {
          "base_uri": "https://localhost:8080/"
        },
        "outputId": "8742a062-1149-4197-e757-f529797ec924"
      },
      "source": [
        "x = \"Hello world\"\n",
        "count = 0\n",
        "for i in range(len(x)):\n",
        "  if x[i] == 'l':\n",
        "    count+=1\n",
        "print(\" count the number of 'l's in 'Hello world' is \", count)"
      ],
      "execution_count": null,
      "outputs": [
        {
          "output_type": "stream",
          "name": "stdout",
          "text": [
            " count the number of 'l's in 'Hello world' is  3\n"
          ]
        }
      ]
    },
    {
      "cell_type": "markdown",
      "metadata": {
        "id": "Qk-vQlp1VSPk"
      },
      "source": [
        "3. Write a program that asks the user for a string and creates a new string that doubles each character of the original string. For instance, if the user enters `Hello`, the output should be `HHeelllloo`.\n",
        "\n",
        "  Գրել ծրագիր, որը վերցնում է օգտատիրոջ կողմից մուտքագրված տեքստը և պատրաստում է նոր տեքստ, որի մեջ գրված են մուտքագրված բառի տառերը կրկնապատկված։ Օրինակ՝ `Hello` բառի համար կվերադարձնի `HHeelllloo`։"
      ]
    },
    {
      "cell_type": "code",
      "metadata": {
        "id": "Egenwe06VSWV",
        "colab": {
          "base_uri": "https://localhost:8080/"
        },
        "outputId": "99728141-332d-4725-8cfc-a566d7eb2ed7"
      },
      "source": [
        "x = input(\"Write a string\\n\")\n",
        "for i in range(len(x)):\n",
        "  print(x[i]*2, end = \"\")"
      ],
      "execution_count": null,
      "outputs": [
        {
          "output_type": "stream",
          "name": "stdout",
          "text": [
            "Write a string\n",
            "Hello\n",
            "HHeelllloo"
          ]
        }
      ]
    },
    {
      "cell_type": "markdown",
      "metadata": {
        "id": "ZCBZc1U1VSb7"
      },
      "source": [
        "4. Write a program that asks a user for their name and prints it in the following way:\n",
        "\n",
        "  `A Ar Arm Arme Armen`.\n",
        "\n",
        "  Hint: use a for loop.\n",
        "\n",
        "  Գրել ծրագիր, որը վերցնում է օգտատիրոջ անունը և տպում է այն հետևյալ կերպ․\n",
        "\n",
        "  `A Ar Arm Arme Armen`\n",
        "\n",
        "  Հուշում․ օգտագործել for ցիկլ։"
      ]
    },
    {
      "cell_type": "code",
      "metadata": {
        "id": "vK_7hQuuVSha",
        "colab": {
          "base_uri": "https://localhost:8080/"
        },
        "outputId": "f40120e3-75bb-4846-88de-7ed2e4f1655b"
      },
      "source": [
        "x = input(\"Write your name - \")\n",
        "for i in range(len(x)):\n",
        "  print(x[:i+1], end = ' ')"
      ],
      "execution_count": null,
      "outputs": [
        {
          "output_type": "stream",
          "name": "stdout",
          "text": [
            "Write your name - Ani\n",
            "A An Ani "
          ]
        }
      ]
    },
    {
      "cell_type": "markdown",
      "metadata": {
        "id": "RsjwjrDfVtAR"
      },
      "source": [
        "5. Write a program that removes all capitalization and common punctuation (`,.;:-?!()\\'\"`) from a\n",
        "string `s`.\n",
        "\n",
        "  Գրել ծրագիր, որը դարձնում է `s` տեքստի մեծատառերը՝ փոքրատառ և ջնջում է տեքստում առկա հետևյալ կետադրական նշանները՝ `,.;:-?!()\\'\"`։"
      ]
    },
    {
      "cell_type": "code",
      "metadata": {
        "id": "WmpM4SyDVtF4",
        "colab": {
          "base_uri": "https://localhost:8080/"
        },
        "outputId": "c2e6eb0d-718c-4ba5-8413-9d950341fa64"
      },
      "source": [
        "s = input(\"Write a text\\n\")\n",
        "s = s.lower()\n",
        "for i in s:\n",
        "  if i in ',.;:-?!()\\\\\\'\"':\n",
        "    s = s.replace(i, '')\n",
        "print(s)\n"
      ],
      "execution_count": null,
      "outputs": [
        {
          "output_type": "stream",
          "name": "stdout",
          "text": [
            "Write a text\n",
            ";:-?!()Ani;:-?!()\n",
            "ani\n"
          ]
        }
      ]
    },
    {
      "cell_type": "markdown",
      "metadata": {
        "id": "KgF5uPuhVtLl"
      },
      "source": [
        "6. Write a program that, given a string that contains a decimal number, prints out the\n",
        "decimal part of the number. For instance, if given `3.14159`, the program should print out `.14159`.\n",
        "\n",
        "  Գրել ծրագիր, որը վերցնում է տասնորդական թիվ՝ որպես տեքստ և տպում է դրա տասնորդական կարգը, այսինքն՝ օրինակ  `3.14159`-ի համար ծրագիրը պետք է տպի `.14159`։"
      ]
    },
    {
      "cell_type": "code",
      "metadata": {
        "id": "0gH3y-Q2VSnR",
        "colab": {
          "base_uri": "https://localhost:8080/"
        },
        "outputId": "bb145c72-c085-4548-c1a9-8c03ae061cb7"
      },
      "source": [
        "x = input(\"Write a float number\\n\")\n",
        "print(x[x.index('.'):])"
      ],
      "execution_count": null,
      "outputs": [
        {
          "output_type": "stream",
          "name": "stdout",
          "text": [
            "Write a float number\n",
            "45.623\n",
            ".623\n"
          ]
        }
      ]
    },
    {
      "cell_type": "markdown",
      "metadata": {
        "id": "3HEZ6dl0ekny"
      },
      "source": [
        "7. A simple way to estimate the number of words in a string is to count the number of spaces\n",
        "in the string. Write a program that asks the user for a string and returns an estimate of how\n",
        "many words are in the string.\n",
        "\n",
        "  Տեքստի մեջ բառերի քանակը մոտավոր հաշվելու պարզագույն եղանակը տեքստում բացատների քանակը հաշվելն է։ Գրել ծրագիր, որը կտպի բացատների քանակը՝ օգտատիրոջ կողմից մուտքագրված տեքստում։ "
      ]
    },
    {
      "cell_type": "code",
      "metadata": {
        "id": "AgRYItgXek22",
        "colab": {
          "base_uri": "https://localhost:8080/"
        },
        "outputId": "729de040-c591-4961-ca44-d5d5c367691a"
      },
      "source": [
        "x = input(\"Write a text\\n\")\n",
        "print(x.count(' '))"
      ],
      "execution_count": null,
      "outputs": [
        {
          "output_type": "stream",
          "name": "stdout",
          "text": [
            "Write a text\n",
            "Aa bbb nnn\n",
            "2\n"
          ]
        }
      ]
    },
    {
      "cell_type": "markdown",
      "metadata": {
        "id": "_OkxDUHEI6kS"
      },
      "source": [
        "8. Write a program that asks the user to enter a string `s` and then converts `s` to lowercase, removes\n",
        "all the `periods` (.) and `commas` (,) from `s`, and prints the resulting string.\n",
        "\n",
        "  Գրել ծրագիր, որը օգտատիրոջից վերցնում է տեքստ, դարձնում այն փոքրատառ, վերացնում վերջակետերն (.) ու ստորակետերը (,) և տպում ստացված տեքստը։"
      ]
    },
    {
      "cell_type": "code",
      "metadata": {
        "id": "cTN0Ve60jEqT",
        "colab": {
          "base_uri": "https://localhost:8080/"
        },
        "outputId": "23ef9e7e-53a7-4b18-9fa3-8ce329dce596"
      },
      "source": [
        "s = input(\"Write a text\\n\")\n",
        "s = s.lower()\n",
        "for i in s:\n",
        "  if i in '.,':\n",
        "    s = s.replace(i,'')\n",
        "print(s)"
      ],
      "execution_count": null,
      "outputs": [
        {
          "output_type": "stream",
          "name": "stdout",
          "text": [
            "Write a text\n",
            "Hello, Ani.\n",
            "hello ani\n"
          ]
        }
      ]
    },
    {
      "cell_type": "markdown",
      "metadata": {
        "id": "xlBkRh2dVHWo"
      },
      "source": [
        "9. Write a program that asks the user to enter a word and determines whether the word is a\n",
        "`palindrome` or not. A palindrome is a word that reads the same backwards as forwards.\n",
        "\n",
        "  Գրել ծրագիր, որը օտատիրոջից վերցնում է մեկ բառ և ստուգում է արդյոք այդ բառը պալինդրոմ է, թե՝ ոչ։ Պալինդրոմ են անվանում այն բառերին, որոնք սկբից և վերջից կարդալիս նույնն են։ Օրինակ՝ ապա, Աննա, ահա, աբբգգբբա։ Բառերը կարող են իմաստ չունենալ։  \n",
        "\n"
      ]
    },
    {
      "cell_type": "code",
      "metadata": {
        "id": "TwvYtVrAVHbQ",
        "colab": {
          "base_uri": "https://localhost:8080/"
        },
        "outputId": "c7946acd-920e-4537-8252-6a8959f1da19"
      },
      "source": [
        "s = input(\"Write a text\\n\")\n",
        "s = s.lower()\n",
        "key = 1\n",
        "for i in range(len(s)):\n",
        "  if(s[i]!=s[-i-1]):\n",
        "    key = 0\n",
        "    break\n",
        "if key:\n",
        "  print(\"Yes\")\n",
        "else:\n",
        "  print(\"No\")\n"
      ],
      "execution_count": null,
      "outputs": [
        {
          "output_type": "stream",
          "name": "stdout",
          "text": [
            "Write a text\n",
            "Anna\n",
            "Yes\n"
          ]
        }
      ]
    },
    {
      "cell_type": "markdown",
      "metadata": {
        "id": "32hdDmh3VHfY"
      },
      "source": [
        "10. Write a program that asks the user for their name and then generates the email written below for that person.\n",
        "\n",
        "  Գրել ծրագիր, որը հարցնում է օգտատիրոջ անուն, ազգանունը և տպում այդ օգտատիրոջ համար հետևյալ նամակը։ \n",
        "\n",
        "  \"Dear **Name Surname**,\n",
        "  \n",
        "  I am pleased to offer you our new special product. **Name**, you may not get such an offer every day, so I would like to ask you to call\n",
        "now. We cannot offer such a low\n",
        "rate for long, **Name**, so please call as soon as possible.\" "
      ]
    },
    {
      "cell_type": "code",
      "metadata": {
        "id": "8OmuGQjqVHjn",
        "colab": {
          "base_uri": "https://localhost:8080/"
        },
        "outputId": "124270fa-d57d-41bb-c4fc-359d06d2fd9d"
      },
      "source": [
        "name = input(\"Write your name - \")\n",
        "s_name = input(\"Write your surname - \")\n",
        "print('Dear ' + name + ' ' + s_name +\n",
        " '\\nI am pleased to offer you our new special product. ' + name +' , you may not get such an offer every day, so I would like to ask you to call now.\\\n",
        " \\nWe cannot offer such a low rate for long, ' + name + ' , so please call as soon as possible.')"
      ],
      "execution_count": null,
      "outputs": [
        {
          "output_type": "stream",
          "name": "stdout",
          "text": [
            "Write your name - Ani\n",
            "Write your surname - Hambaryan\n",
            "Dear Ani Hambaryan\n",
            "I am pleased to offer you our new special product. Ani , you may not get such an offer every day, so I would like to ask you to call now. \n",
            "We cannot offer such a low rate for long, Ani , so please call as soon as possible.\n"
          ]
        }
      ]
    },
    {
      "cell_type": "markdown",
      "metadata": {
        "id": "_wOptjGTqTFC"
      },
      "source": [
        "## Lists"
      ]
    },
    {
      "cell_type": "markdown",
      "metadata": {
        "id": "2cUNMzReV_fd"
      },
      "source": [
        "11. Write a program that removes the repeated items from a list and leaves only the unique values in the initial order.\n",
        "\n",
        "  Գրել ծրագիր, որը կվերադարձնի list-ի յուրաքանչյուր տարր առանց կրկնության։"
      ]
    },
    {
      "cell_type": "code",
      "metadata": {
        "id": "ylT4vZLWV_pO",
        "colab": {
          "base_uri": "https://localhost:8080/"
        },
        "outputId": "40f28969-74c4-4ee3-d5ca-25a093efba33"
      },
      "source": [
        "a = [4, 10, 4, 20, 2]\n",
        "a = list(set(a))\n",
        "print(a)"
      ],
      "execution_count": null,
      "outputs": [
        {
          "output_type": "stream",
          "name": "stdout",
          "text": [
            "[10, 2, 4, 20]\n"
          ]
        }
      ]
    },
    {
      "cell_type": "markdown",
      "metadata": {
        "id": "CIc1nNl8V_vm"
      },
      "source": [
        "12. Write a program that counts the number of occurances of each item in the list. \n",
        "\n",
        "  Գրել ծրագիր, որը կհաշվի list-ի տարրերի հաճախականությունները։"
      ]
    },
    {
      "cell_type": "code",
      "metadata": {
        "id": "nn4LVRfSV_0t",
        "colab": {
          "base_uri": "https://localhost:8080/"
        },
        "outputId": "b3c94cb2-6cf4-4bab-8ba7-949fd42913b2"
      },
      "source": [
        "a = [5,2,4,4,6,10,5]\n",
        "k = ''\n",
        "for i in a:\n",
        "  if str(i) not in k:\n",
        "    print(i, ' - ', a.count(i))\n",
        "    k+=str(i)\n",
        "  "
      ],
      "execution_count": null,
      "outputs": [
        {
          "output_type": "stream",
          "name": "stdout",
          "text": [
            "5  -  2\n",
            "2  -  1\n",
            "4  -  2\n",
            "6  -  1\n",
            "10  -  1\n"
          ]
        }
      ]
    },
    {
      "cell_type": "markdown",
      "metadata": {
        "id": "aO1ojeTnWEpt"
      },
      "source": [
        "13. Write a program that generates a list of 50 random numbers between 1 and 100. Count how many items in the list are greater than 50.\n",
        "\n",
        "  Գրել ծրագիր, որը կստեղծի 50 պատահական ամբողջ թիվ 1-100 միջակայքից և կհաշվի 50-ից մեծ թվերի քանակը։"
      ]
    },
    {
      "cell_type": "code",
      "metadata": {
        "id": "RziUX7kRWEwq",
        "colab": {
          "base_uri": "https://localhost:8080/"
        },
        "outputId": "4882fd92-8ca5-42e8-9263-27f13f637bd3"
      },
      "source": [
        "import random\n",
        "a =random.sample(range(1, 100), 50)\n",
        "print(len([i for i in a if i > 50]))"
      ],
      "execution_count": null,
      "outputs": [
        {
          "output_type": "stream",
          "name": "stdout",
          "text": [
            "26\n"
          ]
        }
      ]
    },
    {
      "cell_type": "markdown",
      "metadata": {
        "id": "YxseNPKzWE1L"
      },
      "source": [
        "14. Write a program that prints out the \n",
        "* total number of elements\n",
        "* sum of all elements\n",
        "* two largest and two smallest elements \n",
        "\n",
        "of a list entered by the user.\n",
        "\n",
        "  Գրել ծրագիր, որը կտպի օգտատիրոջ կողմից մուտքագրված list-ի\n",
        "  * ընդհանուր էլեմենտների քանակը\n",
        "  * բոլոր էլեմենտների գումարը\n",
        "  * երկու ամենամեծ և ամենափոքր տարրերը"
      ]
    },
    {
      "cell_type": "code",
      "metadata": {
        "id": "wzI_x4u_WE_w",
        "colab": {
          "base_uri": "https://localhost:8080/"
        },
        "outputId": "4c290a25-193b-4ea2-bdbd-e1167783c358"
      },
      "source": [
        "x = []\n",
        "for i in range(5):\n",
        "  y = int(input(\"Write a number - \"))\n",
        "  x.append(y)\n",
        "print('total number of elements is', len(x))\n",
        "print('sum of all elements is ', sum(x))\n",
        "x.sort()\n",
        "print('two largest elements are ', x[-2:], '\\ntwo smallest elements are ', x[:2])"
      ],
      "execution_count": null,
      "outputs": [
        {
          "output_type": "stream",
          "name": "stdout",
          "text": [
            "Write a number - 5\n",
            "Write a number - 7\n",
            "Write a number - 2\n",
            "Write a number - 10\n",
            "Write a number - 4\n",
            "total number of elements is 5\n",
            "sum of all elements is  28\n",
            "two largest elements are  [7, 10] \n",
            "two smallest elements are  [2, 4]\n"
          ]
        }
      ]
    },
    {
      "cell_type": "markdown",
      "metadata": {
        "id": "YUaFYy8OIHWp"
      },
      "source": [
        "15. Write a program that generates a list of 20 random numbers between 1 and 100.\n",
        "  * Print the list.\n",
        "  * Print the average of the elements in the list.\n",
        "  * Print the largest and smallest values in the list.\n",
        "  * Print the second largest and second smallest entries in the list\n",
        "  * Print how many even numbers are in the list.\n",
        "\n",
        "  Գրել ծրագիր, որը կստեղծի 1-100 միջակայքից 20 պատահական ամբողջ թվեր պարունակող list և կտպի\n",
        "  * այդ list-ը \n",
        "  * list-ի թվաբանական միջինը\n",
        "  * մեծագույն և փոքրագուն թվերը\n",
        "  * երկրորդ ամենամեծ և ամենափոքր թվերը\n",
        "  * զույգ թվերի քանակը"
      ]
    },
    {
      "cell_type": "code",
      "metadata": {
        "id": "xrSVUy31IHeV",
        "colab": {
          "base_uri": "https://localhost:8080/"
        },
        "outputId": "7043f524-e834-446b-a3d9-295cfd72973c"
      },
      "source": [
        "import random\n",
        "a =random.sample(range(1, 100), 20)\n",
        "print(a)\n",
        "print('average of the elements in the list is ', sum(a)/len(a))\n",
        "print('the largest value in the list is', max(a))\n",
        "print('the smallest value in the list is', min(a))\n",
        "a.sort()\n",
        "print('the second largest entrie in the list is', a[-2])\n",
        "print('the second smallest entrie in the list is', a[1])\n",
        "print('even numbers are ', len([i for i in a if i%2==0]))"
      ],
      "execution_count": null,
      "outputs": [
        {
          "output_type": "stream",
          "name": "stdout",
          "text": [
            "[28, 23, 73, 74, 2, 76, 22, 19, 35, 31, 99, 65, 91, 56, 34, 21, 15, 95, 38, 46]\n",
            "average of the elements in the list is  47.15\n",
            "the largest value in the list is 99\n",
            "the smallest value in the list is 2\n",
            "the second largest entrie in the list is 95\n",
            "the second smallest entrie in the list is 15\n",
            "even numbers are  9\n"
          ]
        }
      ]
    },
    {
      "cell_type": "markdown",
      "metadata": {
        "id": "FgcH-562IHlB"
      },
      "source": [
        "16. Ask the user to enter a list containing numbers between 1 and 12. Then replace all of the\n",
        "entries in the list that are greater than 8 with 8 And prints the resulting list.\n",
        "\n",
        "  Գրել ծրագիր, որը վերցնում է օգտատիրոջ կողմից մուտքագրված 1-ից 12 ամբողջ թվեր, փոխարինում 8-ից մեծ թվերը 8-ով և տպում է ստացված list-ը։"
      ]
    },
    {
      "cell_type": "code",
      "metadata": {
        "id": "KMqAiNsGIHsU",
        "colab": {
          "base_uri": "https://localhost:8080/"
        },
        "outputId": "1e2b1971-e048-486f-d4ee-d1e934dc33ba"
      },
      "source": [
        "l = []\n",
        "for i in range(5):\n",
        "  l.append(int(input('Write numbers between 1 and 12 - ')))\n",
        "print([i if i <= 8 else 8 for i in l ])"
      ],
      "execution_count": null,
      "outputs": [
        {
          "output_type": "stream",
          "name": "stdout",
          "text": [
            "Write numbers between 1 and 12 - 7\n",
            "Write numbers between 1 and 12 - 9\n",
            "Write numbers between 1 and 12 - 6\n",
            "Write numbers between 1 and 12 - 10\n",
            "Write numbers between 1 and 12 - 4\n",
            "[7, 8, 6, 8, 4]\n"
          ]
        }
      ]
    },
    {
      "cell_type": "markdown",
      "metadata": {
        "id": "IicCIcQvIHxY"
      },
      "source": [
        "17. Ask the user to enter a list of strings. Create a new list that consists of those strings with their\n",
        "first characters removed.\n",
        "\n",
        "  Օգտատիրոջ կողմից պետք է մուտքագրվի string-ների list, այնուհետև պահանջվում է ստեղծել նոր list, որտեղ կլինեն նույն string-ները, բայց առանց առաջին սիմվոլի։ Օրինակ՝ \n",
        "  `['!dog', '+cat']` $\\to$ `['dog', 'cat']`"
      ]
    },
    {
      "cell_type": "code",
      "metadata": {
        "id": "gW2JdxzWIH4g",
        "colab": {
          "base_uri": "https://localhost:8080/"
        },
        "outputId": "58bc2771-34f2-421c-f725-eee535c765a3"
      },
      "source": [
        "l = []\n",
        "for i in range(5):\n",
        "  l.append(input(\"Write a string - \"))\n",
        "print([i[1:] for i in l])"
      ],
      "execution_count": null,
      "outputs": [
        {
          "output_type": "stream",
          "name": "stdout",
          "text": [
            "Write a string - Annn\n",
            "Write a string - sddg\n",
            "Write a string - rtyfh\n",
            "Write a string - edf\n",
            "Write a string - edgf\n",
            "['nnn', 'ddg', 'tyfh', 'df', 'dgf']\n"
          ]
        }
      ]
    },
    {
      "cell_type": "markdown",
      "metadata": {
        "id": "MEC70di4IH_O"
      },
      "source": [
        "18. Write a program that generates 100 random integers that are either 0 or 1. Then find the largest number of zeros in a row. For instance, the longest run of\n",
        "zeros in `[1,0,1,1,0,0,0,0,1,0,0]` is 4. \n",
        "\n",
        "  Գրել ծրագիր, որը կստեղծի 100 պատահական 0-ներ և 1-եր, ապա կհաշվի թե ամենաշատը քանի իրար հաջորդող 0-ներ կան տվյալ list-ի մեջ։ Օրինակ՝ այս դեպքում `[1,0,1,1,0,0,0,0,1,0,0]` այդ թիվը կլինի 4-ը.  "
      ]
    },
    {
      "cell_type": "code",
      "metadata": {
        "id": "wU6-9X9zIIFe",
        "colab": {
          "base_uri": "https://localhost:8080/"
        },
        "outputId": "7e75f761-019d-4649-cf9b-f9ded14b9652"
      },
      "source": [
        "import random\n",
        "l = []\n",
        "count = 0\n",
        "count2 = 0\n",
        "for i in range(10):\n",
        "  l.append(random.randint(0,1))\n",
        "for j in l:\n",
        "    if j==0:\n",
        "      count+=1\n",
        "    else:\n",
        "      if count > count2:\n",
        "        count2 = count\n",
        "      count = 0;\n",
        "print(l)\n",
        "print(count2)\n",
        "\n",
        "\n",
        "\n"
      ],
      "execution_count": null,
      "outputs": [
        {
          "output_type": "stream",
          "name": "stdout",
          "text": [
            "[0, 0, 1, 0, 0, 0, 0, 1, 1, 1]\n",
            "4\n"
          ]
        }
      ]
    },
    {
      "cell_type": "markdown",
      "metadata": {
        "id": "DX4939I0Kdqt"
      },
      "source": [
        "19. Create the following lists using list comprehension.\n",
        "\n",
        "  * A list consisting of the even integers 0 through 49\n",
        "  * A list containing the squares of the integers 1 through 50 that are divisible by 3.\n",
        "\n",
        "  Ստեղծել հետևյալ list-երը օգտագործելով list comprehension մեթոդը։\n",
        "\n",
        "  * 0-ից 49 զույգ ամբողջ թվերը\n",
        "  * 1-ից 50 ամողջ թվերից 3-ի բաժանվողների քառակուսիները"
      ]
    },
    {
      "cell_type": "code",
      "metadata": {
        "id": "bAKqzpv6KfDJ",
        "colab": {
          "base_uri": "https://localhost:8080/"
        },
        "outputId": "1b7d0208-9469-47f8-fb15-f9aab18e741d"
      },
      "source": [
        "print([i for i in range(49) if i % 2 == 0])\n",
        "print([i**2 for i in range(1,50) if i %3==0])"
      ],
      "execution_count": null,
      "outputs": [
        {
          "output_type": "stream",
          "name": "stdout",
          "text": [
            "[0, 2, 4, 6, 8, 10, 12, 14, 16, 18, 20, 22, 24, 26, 28, 30, 32, 34, 36, 38, 40, 42, 44, 46, 48]\n",
            "[9, 36, 81, 144, 225, 324, 441, 576, 729, 900, 1089, 1296, 1521, 1764, 2025, 2304]\n"
          ]
        }
      ]
    },
    {
      "cell_type": "markdown",
      "metadata": {
        "id": "NKP8JTNb6z5P"
      },
      "source": [
        "# Dictionaries, Tuples, Sets"
      ]
    },
    {
      "cell_type": "markdown",
      "metadata": {
        "id": "ms2qt7pe6wKD"
      },
      "source": [
        "20. Write a program that uses a dictionary that contains ten user names and passwords. The\n",
        "program should ask the user to enter their username and password. If the username is not in\n",
        "the dictionary, the program should indicate that the person is not a valid user of the system. If\n",
        "the username is in the dictionary, but the user does not enter the right password, the program\n",
        "should say that the password is invalid. If the password is correct, then the program should\n",
        "tell the user that they are now logged in to the system.\n",
        "\n",
        "  Գրել ծրագիր, որը օգտագործում է dictionary, որպեսզի պահի 10 օգտատերերի հաշվիների անունները և գաղտնաբառերը։ Ծրագիրը օգտատիրոջից պահանջում է մուտքագրել անունը և գաղտնաբառը, որոնց չհամընկնելու դեպքում ծրագիրը պետք է տեղեկացնի դրա մասին նշելով թե որ ինչը չի համընկել․ անունը թե գաղտնաբառը։ Եթե գաղտնաբառը ճիշտ է, ապա ծրագիրը պետք է հայտնի, որ օգտատերը արդեն մուտք է գործել համակարգ։"
      ]
    },
    {
      "cell_type": "code",
      "metadata": {
        "id": "HpvGvAxs6yzr",
        "colab": {
          "base_uri": "https://localhost:8080/"
        },
        "outputId": "2c431f14-47f1-491e-e2ac-10b7575ca534"
      },
      "source": [
        "user = {'Ani':'123', 'Anna':'234','Alla':'5678'}\n",
        "name = input(\"Write a name - \")\n",
        "if name in user:\n",
        "  passw = input('Write a password - ')\n",
        "  if passw == user.get(name):\n",
        "    print('you are now logged in to the system.')\n",
        "  else:\n",
        "    print('The password is not valid')\n",
        "else:\n",
        "  print('The username is not valid')\n",
        "\n",
        "\n"
      ],
      "execution_count": null,
      "outputs": [
        {
          "output_type": "stream",
          "name": "stdout",
          "text": [
            "Write a name - Anna\n",
            "Write a password - 234\n",
            "you are now logged in to the system.\n"
          ]
        }
      ]
    },
    {
      "cell_type": "markdown",
      "metadata": {
        "id": "otpqwn7s67XR"
      },
      "source": [
        "21. Repeatedly ask the user to enter a team name and the how many games the team won and\n",
        "how many they lost. Store this information in a dictionary where the keys are the team names\n",
        "and the values are tuples of the form (wins, losses). Using the dictionary created above,\n",
        "\n",
        "  1. allow the user to enter a team name and print out\n",
        "the team's winning percentage.\n",
        "  2. create a list whose entries are the number of wins of each team.\n",
        "  3. print the name of the team with the most number of losses.\n",
        "\n",
        "  Գրել ծրագիր, որը կվերցնի օգտատիրոջից ինչ-որ թիմի անուն և տեղեկատվություն այդ թիմի հաղթանակների և պարտությունների քանակների մասին։ Տվյալները պետք է պահել dictionary-ի մեջ, որտեղ բանալիները կլինեն մուտքագրված թիմերի անունները, իսկ արժեքները կլինեն (հաղթանակներ, պարտություններ) ֆորմատով tuple: Օգտագործելով վերոնշյալ dictionary-ն\n",
        "  \n",
        "  1. տպել օգտատիրոջ կողմից նշված թիմի հաղթանակների տոկոսը։ \n",
        "  2. ստեղծել list, որի տարրերը կլինեն յուրաքանչյուր թիմի հաղթանակների քանակները։\n",
        "  3. տպել ամենաշատը պարտված թիմի անունը։"
      ]
    },
    {
      "cell_type": "code",
      "metadata": {
        "id": "hBhvQFQM67h_",
        "colab": {
          "base_uri": "https://localhost:8080/"
        },
        "outputId": "d2f3ed5c-26db-4d62-d33b-c511fa7f8ea4"
      },
      "source": [
        "n = int(input('Enter number of teams : '))\n",
        "game = {}\n",
        "for i in range(n):\n",
        "  name = input('enter a team name : ')\n",
        "  won = int(input('Enter number the wins : '))\n",
        "  lost = int(input('Enter number the losts : '))\n",
        "  game[name] = (won, lost)\n",
        "team_name = input('Enter a team name : ')\n",
        "print('The team\\'s winning percentage is ', game[team_name][0]*100/sum(game[team_name]), ' %')\n",
        "print('wins of each team are : ', [game[i][0] for i in game])\n",
        "print('The name of the team with the most number of losses is ', str([k for k, v in game.items() if game[k][1] == max(game[i][1] for i in game)]))\n"
      ],
      "execution_count": null,
      "outputs": [
        {
          "output_type": "stream",
          "name": "stdout",
          "text": [
            "Enter number of teams : 3\n",
            "enter a team name : A\n",
            "Enter number the wins : 1\n",
            "Enter number the losts : 2\n",
            "enter a team name : B\n",
            "Enter number the wins : 3\n",
            "Enter number the losts : 4\n",
            "enter a team name : C\n",
            "Enter number the wins : 5\n",
            "Enter number the losts : 6\n",
            "Enter a team name : B\n",
            "The team's winning percentage is  42.857142857142854  %\n",
            "wins of each team are :  [1, 3, 5]\n",
            "The name of the team with the most number of losses is  ['C']\n"
          ]
        }
      ]
    },
    {
      "cell_type": "markdown",
      "metadata": {
        "id": "fPmRTK6w67nC"
      },
      "source": [
        "22. Repeatedly ask the user to enter game scores in a format like `team1 score1 - team2 score2`. Store\n",
        "this information in a dictionary where the keys are the team names and the values are tuples of\n",
        "the form (wins, losses).\n",
        "\n",
        "  Գրել ծրագիր, որը օգտատիրոջից վերցնում է խաղերի հաշվի տեղեկատվություն հետևյալ ֆորմատով՝ `team1 score1 - team2 score2` և ստեղծում է dictionary-ի, որտեղ բանալիները կլինեն թիմերի անունները, իսկ արժեքները կլինեն tuple-ներ՝ հաղթանակների և պարտությունների քանակներից կազմված։"
      ]
    },
    {
      "cell_type": "code",
      "metadata": {
        "id": "vfNjpUUk67sA",
        "colab": {
          "base_uri": "https://localhost:8080/"
        },
        "outputId": "682bb9b5-ed2a-4dbb-f250-3f4967846857"
      },
      "source": [
        "# Pyunik 3 - Mika 2\n",
        "# Pyunik 1 - Ararat 2\n",
        "n = int(input('Enter number of the games : '))\n",
        "game = {}\n",
        "for i in range(n):\n",
        "  team1, score1, _, team2, score2 = input(\"Enter the game results:\").split()\n",
        "  result1, result2 = ((1, 0), (0, 1)) if score1 > score2 else ((0, 1), (1, 0))\n",
        "  game[team1] = result1 if team1 not in  game else tuple([sum(tup) for tup in zip(game[team1], result1)])\n",
        "  game[team2] = result2 if team2 not in  game else tuple([sum(tup) for tup in zip(game[team2], result2)])\n",
        "game\n"
      ],
      "execution_count": null,
      "outputs": [
        {
          "name": "stdout",
          "output_type": "stream",
          "text": [
            "Enter number of the games : 2\n",
            "Enter the game results:Pyunik 3 - Mika 2\n",
            "Enter the game results:Pyunik 1 - Ararat 2\n"
          ]
        },
        {
          "output_type": "execute_result",
          "data": {
            "text/plain": [
              "{'Pyunik': (1, 1), 'Mika': (0, 1), 'Ararat': (1, 0)}"
            ]
          },
          "metadata": {},
          "execution_count": 89
        }
      ]
    },
    {
      "cell_type": "markdown",
      "metadata": {
        "id": "4Wh2rYRD67ww"
      },
      "source": [
        "23.  Create a $5 \\times 5$ list of numbers. Then write a program that creates a dictionary whose keys are\n",
        "the numbers and whose values are the how many times the number occurs. Then print the three most common numbers.\n",
        "\n",
        "  Ստեղծել $5 \\times 5$ չափսի մատրից (list-երի list), այնուհետև ստեղծել dictionary, որտեղ բանալիները կլինեն մատրիցի թվերը, իսկ արժեքները կլինեն այդ թվերի հաճախականությունները (քանի անգամ են հանդիպում) այդ մատրիցի մեջ։ Տպել 3 ամենաշատ հանդիպող թվերը։\n"
      ]
    },
    {
      "cell_type": "code",
      "metadata": {
        "id": "OhCE05K4671x",
        "colab": {
          "base_uri": "https://localhost:8080/"
        },
        "outputId": "99b83815-3041-4370-e803-5d0c81baede0"
      },
      "source": [
        "m = [[1, 2, 3, 4, 5],\n",
        "     [6, 7, 8, 9, 10],\n",
        "     [5, 4, 3, 2, 1],\n",
        "     [11, 9, 8, 7, 6],\n",
        "     [4, 5, 6, 7, 8]]\n",
        "l = [c for r in m for c in r]\n",
        "d = {k:l.count(k) for k in l }\n",
        "d\n"
      ],
      "execution_count": 30,
      "outputs": [
        {
          "output_type": "execute_result",
          "data": {
            "text/plain": [
              "{1: 2, 2: 2, 3: 2, 4: 3, 5: 3, 6: 3, 7: 3, 8: 3, 9: 2, 10: 1, 11: 1}"
            ]
          },
          "metadata": {},
          "execution_count": 30
        }
      ]
    },
    {
      "cell_type": "markdown",
      "metadata": {
        "id": "7zQ_28J07RVg"
      },
      "source": [
        "24. Write a program that reads through the given list of dictionaries and prints the following:\n",
        "  1. All the users whose phone number ends in an 8\n",
        "  2. All the users that don't have an email address listed\n",
        "\n",
        "  Գրել ծրագիր, որը կմշակի տրված list-ը և կտպի հետևյալը․\n",
        "  1. Բոլոր օգտատերերի անունները՝ ում հեռախոսի համարը վերջանում է 8-ով\n",
        "  2. Բոլոր օգտատերերի անունները՝ ովքեր չունեն կցված email հասցե։\n",
        "\n"
      ]
    },
    {
      "cell_type": "code",
      "metadata": {
        "id": "4CPu6-m87UQj",
        "colab": {
          "base_uri": "https://localhost:8080/"
        },
        "outputId": "127e819f-264b-44b3-a0c5-f7d02a4ef660"
      },
      "source": [
        "d = [{'name':'Todd', 'phone':'555-1414', 'email':'todd@mail.net'},\n",
        "    {'name':'Helga', 'phone':'555-1618', 'email':'helga@mail.net'},\n",
        "    {'name':'Princess', 'phone':'555-3141', 'email':''},\n",
        "    {'name':'LJ', 'phone':'555-2718', 'email':'lj@mail.net'}]\n",
        "print('All the users whose phone number ends in an 8 : ')\n",
        "print([d[i]['name'] for i in range(len(d))  if d[i]['phone'][-1] == '8'])\n",
        "print('All the users that don\\'t have an email address listed : ')\n",
        "print([d[i]['name'] for i in range(len(d))  if d[i]['email'] == ''])\n",
        "\n"
      ],
      "execution_count": null,
      "outputs": [
        {
          "output_type": "stream",
          "name": "stdout",
          "text": [
            "All the users whose phone number ends in an 8 : \n",
            "['Helga', 'LJ']\n",
            "All the users that don't have an email address listed : \n",
            "['Princess']\n"
          ]
        }
      ]
    },
    {
      "cell_type": "markdown",
      "metadata": {
        "id": "6WjRITsC7V95"
      },
      "source": [
        "25. Write a program that prints the unique even numbers from a given tuple by the user with the help of set properties.\n",
        "\n",
        "  Գրել ծրագիր, որը կտպի օգտատիրոջ կողմից մուտքագրված tuple-ի զույգ թվերը (առանց կրկնության) oգտվելով set-երի հատկությունից։ "
      ]
    },
    {
      "cell_type": "code",
      "metadata": {
        "id": "vAxnEan27ZjH"
      },
      "source": [],
      "execution_count": null,
      "outputs": []
    }
  ]
}
