{
  "nbformat": 4,
  "nbformat_minor": 0,
  "metadata": {
    "colab": {
      "provenance": []
    },
    "kernelspec": {
      "name": "python3",
      "display_name": "Python 3"
    }
  },
  "cells": [
    {
      "cell_type": "markdown",
      "metadata": {
        "id": "GCEodKTbRd_r"
      },
      "source": [
        "# Homework Exercises "
      ]
    },
    {
      "cell_type": "markdown",
      "metadata": {
        "id": "1WbPDB3mI7MO"
      },
      "source": [
        "Problem1. Write a function named `file_writer`, which will take as input a text and a file name (as strings), then will create a text file (.txt) with the given file name and will write the given text in it.\n",
        "\n",
        "  Գրել `file_writer` անունով ֆունկցիա, որը որպես մուտքային փոփոխականներ կվերցնի տեքստ և ֆայլի անուն string-ի տեսքով, այնուհետև կստեղծի տեքստային ֆայլ տրված անունով և տրված տեքստը կգրի ֆայլի մեջ։"
      ]
    },
    {
      "cell_type": "code",
      "metadata": {
        "id": "hfFxrQ4YI6v7"
      },
      "source": [
        "# your code here\n",
        "def file_writer(text, file_name):\n",
        "  my_file = open(file_name, 'w')\n",
        "  my_file.write(text)\n",
        "  my_file.close()\n",
        "\n",
        "text = \"\"\"Երբ չի մնում ելք ու ճար,\n",
        "Խենթերն են գտնում հնար,\n",
        "Այսպես ծագեց, արեգակեց\n",
        "Սարդարապատի մարտը մեծ:\n",
        "\"\"\"\n",
        "file_writer(text, 'file1.txt')\n",
        "file_writer('Some text', 'file2.txt')"
      ],
      "execution_count": 36,
      "outputs": []
    },
    {
      "cell_type": "code",
      "metadata": {
        "id": "DWL-vj2DECV9"
      },
      "source": [
        "# Do not modify this cell\n",
        "text = \"\"\"Երբ չի մնում ելք ու ճար,\n",
        "Խենթերն են գտնում հնար,\n",
        "Այսպես ծագեց, արեգակեց\n",
        "Սարդարապատի մարտը մեծ:\n",
        "\"\"\"\n",
        "file_writer(text, 'file1.txt')\n",
        "file_writer('Some text', 'file2.txt')"
      ],
      "execution_count": 34,
      "outputs": []
    },
    {
      "cell_type": "markdown",
      "metadata": {
        "id": "3HEZ6dl0ekny"
      },
      "source": [
        "Problem2. Write a function called `file_reader`, which will take the name of a text file and will return its content.\n",
        "\n",
        "  Գրել `file_reader` անունով ֆունկցիա, որը կվերցնի տեքստային ֆայլի անունը, ապա կվերադարձնի այդ ֆայլի պարունակությունը։ "
      ]
    },
    {
      "cell_type": "code",
      "metadata": {
        "id": "AgRYItgXek22",
        "colab": {
          "base_uri": "https://localhost:8080/"
        },
        "outputId": "06fadfb1-b454-4280-e4ab-8e0905282e0c"
      },
      "source": [
        "# your code here\n",
        "def file_reader(file_name):\n",
        "  return open(file_name).read()\n",
        "\n",
        "print(file_reader('file1.txt'))\n",
        "print(file_reader('file2.txt') )"
      ],
      "execution_count": 40,
      "outputs": [
        {
          "output_type": "stream",
          "name": "stdout",
          "text": [
            "Երբ չի մնում ելք ու ճար,\n",
            "Խենթերն են գտնում հնար,\n",
            "Այսպես ծագեց, արեգակեց\n",
            "Սարդարապատի մարտը մեծ:\n",
            "\n",
            "Some text\n"
          ]
        }
      ]
    },
    {
      "cell_type": "code",
      "metadata": {
        "id": "Jx9bZPj9YhV4"
      },
      "source": [
        "# Do not modify this cell\n",
        "assert file_reader('file1.txt') == text\n",
        "assert file_reader('file2.txt') == 'Some text'"
      ],
      "execution_count": 38,
      "outputs": []
    },
    {
      "cell_type": "markdown",
      "metadata": {
        "id": "_OkxDUHEI6kS"
      },
      "source": [
        "Problem3. Write a function called `add_excitement` that takes two arguments \n",
        "1. a list of strings \n",
        "2. boolean variable called `modify`\n",
        "\n",
        " and adds an exclamation\n",
        "point (`!`) to the end of each string in the list. In case modify is `True`, the program should modify the\n",
        "original list and not return anything, otherwise \n",
        "the program should not modify the original list and should\n",
        " return a new list instead.\n",
        "\n",
        "  Գրել `add_excitement` անունով ֆունկցիա, որը կվերցնի երկու մուտքային տվյալ՝\n",
        "  1. string-ների list\n",
        "  2. boolearn փոփոխական՝ `modify` անունով\n",
        "\n",
        "  և list-ի յուրաքանչյուր բառի վերջում կավելացնի բացականչական նշան (`!`)։ Երբ `modify=True`, այդ դեպքում ծրագիրը պետք է կատարի վերոնշյալ փոփոխությունը սկզբնական list-ի վրա և ոչինչ չվերադարձնի, իսկ եթե `modify=False`, այդ դեպքում ծրագիրը պետք է չփոփոխի սկզբնական list-ը և վերադարձնի ստացված նոր list-ը։"
      ]
    },
    {
      "cell_type": "code",
      "metadata": {
        "id": "cTN0Ve60jEqT",
        "colab": {
          "base_uri": "https://localhost:8080/"
        },
        "outputId": "451dc487-2657-4dee-d88a-d454f5c58c0c"
      },
      "source": [
        "def add_excitement(list1: list, modify: bool):\n",
        "  list2 = [i+'!' for i in list1]\n",
        "  if modify:\n",
        "    for i in list1:\n",
        "      i += '!'\n",
        "  else:\n",
        "    return list2\n",
        "    \n",
        "\n",
        "print(add_excitement([\"Hello\", \"my\", \"work\"], False))\n"
      ],
      "execution_count": 6,
      "outputs": [
        {
          "output_type": "stream",
          "name": "stdout",
          "text": [
            "['Hello!', 'my!', 'work!']\n"
          ]
        }
      ]
    },
    {
      "cell_type": "code",
      "metadata": {
        "id": "51ssfjY2c1u_"
      },
      "source": [
        "# Do not modify this cell\n",
        "list1 = ['dog', 'cat']\n",
        "list2 = add_excitement(list1, False) \n",
        "assert add_excitement(list1, True) is None\n",
        "assert list1 == list2"
      ],
      "execution_count": null,
      "outputs": []
    },
    {
      "cell_type": "markdown",
      "metadata": {
        "id": "4TNaI0i1-pxA"
      },
      "source": [
        "Problem4. Write a function called `first_diff` that is given two strings and returns the first location in\n",
        "which the strings differ. If the strings are identical, it should return -1.\n",
        "\n",
        "  Գրել `first_diff` անունով ֆունկցիա, որը տրված երկու string-ների համար վերադարձնում է առաջին ինդեքսը, որտեղ երկու string-ների արժեքները տարբերվում են։ Եթե string-ները ամբողջովին համընկնում են, ապա ֆունկցիան պետք է վերադարձնի -1:"
      ]
    },
    {
      "cell_type": "code",
      "metadata": {
        "id": "043SgZDT-par",
        "colab": {
          "base_uri": "https://localhost:8080/"
        },
        "outputId": "1a462862-6c35-45f1-880b-ee278aa8cc57"
      },
      "source": [
        "def first_diff(str1, str2):\n",
        "  if len(str1)!=len(str2):\n",
        "    return -2\n",
        "  for i in range (len(str1)):\n",
        "     if str1[i] != str2[i]:\n",
        "       return i\n",
        "       break\n",
        "  return -1\n",
        "\n",
        "print(first_diff(\"dog\", \"don\"))\n"
      ],
      "execution_count": null,
      "outputs": [
        {
          "output_type": "stream",
          "name": "stdout",
          "text": [
            "2\n"
          ]
        }
      ]
    },
    {
      "cell_type": "code",
      "metadata": {
        "id": "HrKl3hN_BnuF"
      },
      "source": [
        "# Do not modify this cell\n",
        "assert first_diff('dog', 'cat') == 0\n",
        "assert first_diff('dog', 'dog') == -1\n",
        "assert first_diff('dog', 'don') == 2"
      ],
      "execution_count": null,
      "outputs": []
    },
    {
      "cell_type": "markdown",
      "metadata": {
        "id": "32hdDmh3VHfY"
      },
      "source": [
        "Problem5. Write a function named `rand_number` that takes an integer `n` and returns a random positive integer with exactly `n` digits. For\n",
        "example, if `n` is 3, then 125 and 593 would be valid return values, but 093 would not because\n",
        "that is really 93, which is a two-digit number.\n",
        "\n",
        "  Գրել `rand_number` անունով ֆունկցիա, որը վերցնում է ամբողջ թիվ `n` անունով և վերադարձնում է պատահական դրական ամբողջ թիվ, որը պարունակում է `n` թվանշան։ Օրինակ՝ եթե `n=3`, ապա 125 կամ 593-ը կլինեին բավարար պատասխաններ, բայց օրինակ 093-ը՝ ոչ, քանի որ այդպիսի ամբողջ թիվ չկա, չնայած, որ այն պարունակում է 3 նիշ։  \n"
      ]
    },
    {
      "cell_type": "code",
      "metadata": {
        "id": "8OmuGQjqVHjn",
        "colab": {
          "base_uri": "https://localhost:8080/"
        },
        "outputId": "ecf6190d-f4cb-47c9-dfb5-ceedb0ab2a08"
      },
      "source": [
        "import random\n",
        "def rand_number(n):\n",
        "  return random.randint(10**(n-1), 10**n-1)\n",
        "\n",
        "print(rand_number(int(input('Write a number - '))))"
      ],
      "execution_count": null,
      "outputs": [
        {
          "output_type": "stream",
          "name": "stdout",
          "text": [
            "Write a number - 2\n",
            "97\n"
          ]
        }
      ]
    },
    {
      "cell_type": "code",
      "metadata": {
        "id": "wmUpHS-k-2LS"
      },
      "source": [
        "# Do not modify this cell\n",
        "assert 1 <= rand_number(1) <= 9\n",
        "assert 10 <= rand_number(2) <= 99\n",
        "assert 100 <= rand_number(3) <= 999\n",
        "assert 1000 <= rand_number(4) <= 9999 "
      ],
      "execution_count": null,
      "outputs": []
    },
    {
      "cell_type": "markdown",
      "metadata": {
        "id": "YUaFYy8OIHWp"
      },
      "source": [
        "Problem6. Write a function called `closest` that takes a list of numbers `L` and a number `n` and returns\n",
        "the largest element in `L` that is not larger than `n`. For instance, if `L=[1,6,3,9,11]` and `n=8`,\n",
        "then the function should return `6`, because `6` is the closest thing in `L` to `8` that is not larger than\n",
        "`8`. If all numbers in the list are larger than `n`., then the function should return `Enter another list`.\n",
        "\n",
        "  Գրել `closest` անունով ֆունկցիա, որը վերցնում է թվերի list `L` անունով, ինչ-որ թիվ որպես `n` և վերադարձնում է `L` list-ի այն թիվը որն ամենամոտն է տրված `n`-ին, բայց մեծ չէ `n`-ից։ Եթե list-ի բոլոր թվերը մեծ են `n`-ից, ապա ֆունկցիան պետք է վերադարձնի `Enter another list`:"
      ]
    },
    {
      "cell_type": "code",
      "metadata": {
        "id": "xrSVUy31IHeV",
        "colab": {
          "base_uri": "https://localhost:8080/"
        },
        "outputId": "274b81d6-1025-43d1-cd71-c6a27b1cb7b3"
      },
      "source": [
        "def closest(L, n):\n",
        "  L.sort()\n",
        "  for i in range(len(L)):\n",
        "    if L[0] > n:\n",
        "      return 'Enter another list'\n",
        "    elif L[i] >= n:\n",
        "      return L[i-1]\n",
        "      break\n",
        "  \n",
        "\n",
        "closest([1, 6, 3, 9, 11], 8)\n",
        "    "
      ],
      "execution_count": null,
      "outputs": [
        {
          "output_type": "execute_result",
          "data": {
            "text/plain": [
              "6"
            ]
          },
          "metadata": {},
          "execution_count": 75
        }
      ]
    },
    {
      "cell_type": "code",
      "metadata": {
        "id": "ReO3DLic_2aW"
      },
      "source": [
        "# Do not modify this cell\n",
        "assert closest([1, 6, 3, 9, 11], 8) == 6\n",
        "assert closest([51, 61, 31, 91, 111], 18) == 'Enter another list'\n",
        "assert closest([1.03, 3.2, 3, 3.9, 7.67], 3.99) == 3.9"
      ],
      "execution_count": null,
      "outputs": []
    },
    {
      "cell_type": "markdown",
      "metadata": {
        "id": "FgcH-562IHlB"
      },
      "source": [
        "Problem7. Write a function called `matches` that takes two strings as arguments and returns how many\n",
        "matches there are between the strings. A match is where the two strings have the same character\n",
        "at the same index. For instance, `'python'` and `'path'` match in the first, third, and\n",
        "fourth characters, so the function should return 3.\n",
        "\n",
        "  Գրել `matches` անունով ֆունկցիա, որը կվերադարձնի տրված երկու string-ների սիմվոլների համընկումների քանակը։ Օրինակ՝ `'python'` և `'path'` string-ների համար, արդյունքը կլինի 3, քանի որ առաջին, երրորդ և չորրորդ սիմվոլները նույնն են։"
      ]
    },
    {
      "cell_type": "code",
      "metadata": {
        "id": "KMqAiNsGIHsU",
        "colab": {
          "base_uri": "https://localhost:8080/"
        },
        "outputId": "764ffa13-e6b2-477e-efd8-58e90bc84497"
      },
      "source": [
        "def matches(str1, str2):\n",
        "  count = 0\n",
        "  for s1, s2 in zip(str1, str2):\n",
        "    if s1 == s2:\n",
        "      count+=1\n",
        "  return count\n",
        "\n",
        "print(matches('python', 'path'))"
      ],
      "execution_count": null,
      "outputs": [
        {
          "output_type": "stream",
          "name": "stdout",
          "text": [
            "3\n"
          ]
        }
      ]
    },
    {
      "cell_type": "code",
      "metadata": {
        "id": "NOY62RlYDBGH"
      },
      "source": [
        "# Do not modify this cell\n",
        "assert matches('python', 'path') == 3\n",
        "assert matches('path', 'pathway') == 4\n",
        "assert matches('abcd', 'dcba') == 0"
      ],
      "execution_count": null,
      "outputs": []
    },
    {
      "cell_type": "markdown",
      "metadata": {
        "id": "IicCIcQvIHxY"
      },
      "source": [
        "Problem8. Write a function called `findall` that\n",
        "given a string and a single character, returns a list containing all of the locations (indices) of that character\n",
        "in the string. It should return `None` if there are no occurrences of the character\n",
        "in the string.\n",
        "\n",
        "  Գրել `findall` անունով ֆունկցիա, որը տրված string-ի և սիմվոլի համար վերադարձնում է list, որում string-ի այն ինդեքսներն են, որտեղ գրված է տրված սիմվոլը։ Եթե տրված սիմվոլը բացակայում է string-ից, ուրեմն պետք է վերադարձնել `None`: Օրինակ՝ `antarctida` string-ի և `a` սիմվոլի համար ֆունկցիան պետք է վերադարձնի `[0,3,9]` list-ը։\n",
        "  "
      ]
    },
    {
      "cell_type": "code",
      "metadata": {
        "id": "gW2JdxzWIH4g",
        "colab": {
          "base_uri": "https://localhost:8080/"
        },
        "outputId": "b55b4dba-d76b-4e8d-ff9d-8df6649a4ce4"
      },
      "source": [
        "def findall(string, character):\n",
        "  l = [i for i in range(len(string)) if character in string[i]]\n",
        "  return l if l else None\n",
        "\n",
        "print(findall('Unit1991', 'a'))"
      ],
      "execution_count": null,
      "outputs": [
        {
          "output_type": "stream",
          "name": "stdout",
          "text": [
            "None\n"
          ]
        }
      ]
    },
    {
      "cell_type": "code",
      "metadata": {
        "id": "GPqn62LNEWXs"
      },
      "source": [
        "# Do not modify this cell\n",
        "assert findall('antarctida', 'a') == [0, 3, 9]\n",
        "assert findall('Unit1991', 'a') is None\n",
        "assert findall('Unit1991', 'i') == [2]"
      ],
      "execution_count": null,
      "outputs": []
    },
    {
      "cell_type": "markdown",
      "metadata": {
        "id": "MEC70di4IH_O"
      },
      "source": [
        "Problem9. Write a function called `change_case` that given a string, returns a string with each upper\n",
        "case letter replaced by a lower case letter and vice-versa.\n",
        "\n",
        "  Գրել `change_case` անունով ֆունկցիա, որը տրված string-ի համար վերադարձնում է մեկ այլ string, որտեղ յուրաքանչյուր փոքրատառ տառ գրված է մեծատառով և հակառակը։ Օրինակ՝ `Hello` string-ի համար պետք է վերադարձնի `hELLO`: Հուշում․ կարելի է օգտագործել string-ների `isupper()` և `islower()` մեթոդները։  "
      ]
    },
    {
      "cell_type": "code",
      "metadata": {
        "id": "wU6-9X9zIIFe",
        "colab": {
          "base_uri": "https://localhost:8080/"
        },
        "outputId": "69cdd97d-0355-42e1-f9cf-9cc59bf72549"
      },
      "source": [
        "def change_case(string):\n",
        "  s = ''\n",
        "  for i in string:\n",
        "    if i.islower():\n",
        "      s+=i.upper()\n",
        "    else:\n",
        "      s+=i.lower()\n",
        "  return s\n",
        "\n",
        "print(change_case('Hello'))"
      ],
      "execution_count": null,
      "outputs": [
        {
          "output_type": "stream",
          "name": "stdout",
          "text": [
            "hELLO\n"
          ]
        }
      ]
    },
    {
      "cell_type": "code",
      "metadata": {
        "id": "fgYokOglpHJO"
      },
      "source": [
        "# Do not modify this cell\n",
        "assert change_case('Hello') == 'hELLO'\n",
        "assert change_case('HELLO') == 'hello'\n",
        "assert change_case('hello') == 'HELLO'\n",
        "assert change_case('Unit1991') == 'uNIT1991'"
      ],
      "execution_count": null,
      "outputs": []
    },
    {
      "cell_type": "markdown",
      "metadata": {
        "id": "DX4939I0Kdqt"
      },
      "source": [
        "Problem10. Write a function called `is_sorted` that is given a list and returns `True` if the list is sorted\n",
        "and `False` otherwise.\n",
        "\n",
        "  Գրել `is_sorted` անունով ֆունկցիա, որը տրված list-ի համար վերադարձնում է `True`, եթե list-ը սորտավորված է (աճման կարգով) և `False`՝ հակառակ դեպքում"
      ]
    },
    {
      "cell_type": "code",
      "metadata": {
        "id": "bAKqzpv6KfDJ",
        "colab": {
          "base_uri": "https://localhost:8080/"
        },
        "outputId": "a7a6add1-a072-4665-9eb7-d995747eaf28"
      },
      "source": [
        "def is_sorted(l):\n",
        "  for i in range(len(l)-1):\n",
        "    if l[i+1]<l[i]:\n",
        "      return False\n",
        "  return True\n",
        "\n",
        "is_sorted([3,1,2,3])  "
      ],
      "execution_count": null,
      "outputs": [
        {
          "output_type": "execute_result",
          "data": {
            "text/plain": [
              "False"
            ]
          },
          "metadata": {},
          "execution_count": 37
        }
      ]
    },
    {
      "cell_type": "code",
      "metadata": {
        "id": "nRmoCYO2FDzj"
      },
      "source": [
        "# Do not modify this cell\n",
        "assert is_sorted([0,1,2,3])\n",
        "assert not is_sorted([3,1,2,3])\n",
        "assert is_sorted([0,1,2,3,3,4,4,4])"
      ],
      "execution_count": null,
      "outputs": []
    },
    {
      "cell_type": "markdown",
      "metadata": {
        "id": "3sutpNpEDrgB"
      },
      "source": [
        "Problem11. Write a called `sum_even` function with one line which will return True if the sum of input numbers is even, else it should return False.\n",
        "\n",
        "  Գրել մեկ տողանի ֆունկցիա `sum_even` անունով, որը կվերադարձնի True, եթե տրված մուտքային տվյալների գումարը զույգ է և False՝ հակառակ դեպքում։"
      ]
    },
    {
      "cell_type": "code",
      "metadata": {
        "id": "dk8eDqtDDrnV",
        "colab": {
          "base_uri": "https://localhost:8080/"
        },
        "outputId": "5b3efb00-1723-48f0-ee3f-3c4cf46abdd2"
      },
      "source": [
        "def sum_even(*args): return True if sum(args) % 2 == 0 else False\n",
        "\n",
        "print(sum_even(2, 3, 3, 5))\n",
        "\n",
        "# x = lambda  *args :  True if sum(args) % 2 == 0 else False\n",
        "\n",
        "# print(x(2, 3, 3, 5))"
      ],
      "execution_count": 10,
      "outputs": [
        {
          "output_type": "stream",
          "name": "stdout",
          "text": [
            "False\n"
          ]
        }
      ]
    },
    {
      "cell_type": "code",
      "metadata": {
        "id": "vXxZHhNGDrr2"
      },
      "source": [
        "# Do not modify this cell\n",
        "assert not sum_even(2, 3, 3, 5)\n",
        "assert not sum_even(2, 3)\n",
        "assert sum_even(2, 3, 3, 5, 2, 3, 4, 5, 7)\n",
        "assert sum_even(2)"
      ],
      "execution_count": 11,
      "outputs": []
    },
    {
      "cell_type": "markdown",
      "metadata": {
        "id": "NchkNfHVDrwQ"
      },
      "source": [
        "Problem12. Write a function called `number_of_vowels` which will return the number of vowels ('o', 'a', 'u', 'i', 'e') in a string.\n",
        "\n",
        "  Գրել `number_of_vowels` անունով ֆունկցիա, որը կվերադարձնի դրա մեջ տրված string-ի մեջ եղած ձայնավորների ('o', 'a', 'u', 'i', 'e') քանակը։"
      ]
    },
    {
      "cell_type": "code",
      "metadata": {
        "id": "a-0UcEN-Dr0R",
        "colab": {
          "base_uri": "https://localhost:8080/"
        },
        "outputId": "6c333001-232e-4efa-9260-d19402f5dada"
      },
      "source": [
        "def number_of_vowels(string):\n",
        "  count = 0\n",
        "  for s in string:\n",
        "    if s.lower() in 'oauie':\n",
        "      count += 1\n",
        "  return count\n",
        "\n",
        "print(number_of_vowels('Antarctida'))\n"
      ],
      "execution_count": null,
      "outputs": [
        {
          "output_type": "stream",
          "name": "stdout",
          "text": [
            "4\n"
          ]
        }
      ]
    },
    {
      "cell_type": "code",
      "metadata": {
        "id": "Qy7tbKmYDr4T"
      },
      "source": [
        "# Do not modify this cell\n",
        "assert number_of_vowels('Antarctida') == 4\n",
        "assert number_of_vowels('qwrtyp') == 0\n",
        "assert number_of_vowels('These letters are vowels in English') == 11"
      ],
      "execution_count": null,
      "outputs": []
    },
    {
      "cell_type": "markdown",
      "metadata": {
        "id": "pyTgpK31Dr8e"
      },
      "source": [
        "Problem13. Write a function called `verbose` that, given an integer less than 1000, returns the name of\n",
        "the integer in Armenian. As an example, `verbose(123)` should return `հարյուր քսաներեք`.\n",
        "\n",
        "  Գրել `verbose` անունով ֆունկցիա, որը 1000-ից փոքր դրական ամբողջ թվի համար վերադարձնում է թվի անվանումը հայերեն, օրինակ՝ verbose(123)-ը պետք է վերադարձնի `հարյուր քսաներեք`։"
      ]
    },
    {
      "cell_type": "code",
      "metadata": {
        "id": "8Nua9FobDsAb",
        "colab": {
          "base_uri": "https://localhost:8080/"
        },
        "outputId": "8d4c1056-e0be-4990-b761-2db2a7faa1a6"
      },
      "source": [
        "def verbose(num):\n",
        "    n = { 0 : 'զրո', 1 : 'մեկ', 2 : 'երկու', 3 : 'երեք', 4 : 'ձորս', 5 : 'հինգ',\n",
        "          6 : 'վեց', 7 : 'յոթ', 8 : 'ութ', 9 : 'ինը', 10 : 'տասը',\n",
        "          11 : 'տասնմեկ', 12 : 'տասներկու', 13 : 'տասներեք', 14 : 'տասնչորս',\n",
        "          15 : 'տասնհինգ', 16 : 'տասնվեց', 17 : 'տասնյոթ', 18 : 'տասնութ',\n",
        "          19 : 'տասնինը', 20 : 'քսան',\n",
        "          30 : 'երեսուն', 40 : 'քառասուն', 50 : 'հիսուն', 60 : 'վաթսուն',\n",
        "          70 : 'յոթանասուն', 80 : 'ութսուն', 90 : 'իննսուն', 100 : 'հարյուր' }\n",
        "    if num < 20: return n[num]\n",
        "    \n",
        "    if (num < 100):\n",
        "        if num % 10 == 0: return n[num]\n",
        "        else: return n[num // 10 * 10] + n[num % 10]\n",
        "\n",
        "    if (num < 1000):\n",
        "        if num % 100 == 0: return n[num]\n",
        "        else: \n",
        "          if num // 100 == 1: return n[100]  + ' ' + verbose(num % 100)\n",
        "          else: return n[num // 100 ] + ' ' + n[100] + ' ' + verbose(num % 100)\n",
        "\n",
        "print(verbose(267))"
      ],
      "execution_count": null,
      "outputs": [
        {
          "output_type": "stream",
          "name": "stdout",
          "text": [
            "երկու հարյուր վաթսունյոթ\n"
          ]
        }
      ]
    },
    {
      "cell_type": "code",
      "metadata": {
        "id": "AahthD78Fc2v"
      },
      "source": [
        "# Do not modify this cell\n",
        "assert verbose(123) == 'հարյուր քսաներեք'\n",
        "assert verbose(267) == 'երկու հարյուր վաթսունյոթ'\n",
        "assert verbose(89) == 'ութսունինը'\n",
        "assert verbose(11) == 'տասնմեկ'\n",
        "assert verbose(10) == 'տասը'\n",
        "assert verbose(5) == 'հինգ'"
      ],
      "execution_count": null,
      "outputs": []
    },
    {
      "cell_type": "markdown",
      "metadata": {
        "id": "3Z3km5ZJFegE"
      },
      "source": [
        "Problem14. Write a function called `calc` that accepts a sentence and calculates the number of letters, digits and returns as a tuple.\n",
        "Suppose the following input is supplied to the program:\n",
        "`hello world! 123`\n",
        "Then, the output should be a tuple with  `(10, 3)`:\n",
        "\n",
        "  Գրել `calc` անունով ֆունկցիա, որը կվերցնի նախադասություն և կվերադարձնի դրա մեջ հանդիպած տառերի և թվանշանների քանակը որպես tuple: Օրինակ՝ `calc('hello world! 123')=(10, 3)`։ "
      ]
    },
    {
      "cell_type": "code",
      "metadata": {
        "id": "NS7CNcu_Felh",
        "colab": {
          "base_uri": "https://localhost:8080/"
        },
        "outputId": "0cba6bd0-d9f0-4338-bba7-5df7bfab116c"
      },
      "source": [
        "def calc(string):\n",
        "  count_alpha = 0\n",
        "  count_digit = 0\n",
        "  for i in string:\n",
        "    if i.isalpha():\n",
        "      count_alpha += 1\n",
        "    if i.isdigit():\n",
        "      count_digit += 1\n",
        "  return (count_alpha, count_digit)\n",
        "\n",
        "calc('hello world! 123')  "
      ],
      "execution_count": 20,
      "outputs": [
        {
          "output_type": "execute_result",
          "data": {
            "text/plain": [
              "(10, 3)"
            ]
          },
          "metadata": {},
          "execution_count": 20
        }
      ]
    },
    {
      "cell_type": "code",
      "metadata": {
        "id": "3W3FCirZFep3"
      },
      "source": [
        "# Do not modify this cell\n",
        "assert calc('hello world! 123') == (10, 3)\n",
        "assert calc('1994') == (0, 4)\n",
        "assert calc('hello world!') == (10, 0)\n",
        "assert calc('@#^$*&!') == (0, 0)"
      ],
      "execution_count": 21,
      "outputs": []
    },
    {
      "cell_type": "markdown",
      "metadata": {
        "id": "si8p60R3FnB1"
      },
      "source": [
        "Problem15. Assuming that we have some email addresses in the \"username@companyname.com\" format, please write a function called `email_to_username` to print the user name of a given email address. Both user names and company names are composed of letters only.\n",
        "\n",
        "  Գրել `email_to_username` անունով ֆունկցիա, որը կվերցնի \"username@companyname.com\" ֆորմատի վանակացած email հասցե և կվերադարձնի username-ը։"
      ]
    },
    {
      "cell_type": "code",
      "metadata": {
        "id": "DWvVGi9iFnGl",
        "colab": {
          "base_uri": "https://localhost:8080/"
        },
        "outputId": "3d5eec59-a8b8-40b4-bbb7-f42d08e9e67a"
      },
      "source": [
        "def email_to_username(email):\n",
        "  return email.split('@')[0]\n",
        "\n",
        "print(email_to_username('nshan@gmail.com'))\n",
        "print(email_to_username('aramhayrapetyan@google.com'))\n",
        "print(email_to_username('hayrapetyan@yahoo.com'))"
      ],
      "execution_count": 25,
      "outputs": [
        {
          "output_type": "stream",
          "name": "stdout",
          "text": [
            "nshan\n",
            "aramhayrapetyan\n",
            "hayrapetyan\n"
          ]
        }
      ]
    },
    {
      "cell_type": "code",
      "metadata": {
        "id": "lzXeIyaPFevC"
      },
      "source": [
        "# Do not modify this cell\n",
        "assert email_to_username('nshan@gmail.com') == 'nshan'\n",
        "assert email_to_username('aramhayrapetyan@google.com') == 'aramhayrapetyan'\n",
        "assert email_to_username('hayrapetyan@yahoo.com') == 'hayrapetyan'"
      ],
      "execution_count": 23,
      "outputs": []
    },
    {
      "cell_type": "markdown",
      "metadata": {
        "id": "urpwiR2SFeyr"
      },
      "source": [
        "Problem16. Write a function called `merge` that takes two already sorted lists of possibly different lengths,\n",
        "and merges them into a single sorted list without using the `sort` method or `sorted` function.\n",
        "\n",
        "  Գրել `merge` անունով ֆունկցիա, որը վերցնում է տարբեր երկարության երկու դասավորված list-եր և միացնում է դրանք՝ վերադարձնելով դրանց դասավորված տարբերակը առանց օգտագործելու `sort` մեթոդը կամ `sorted` ֆունկցիան։"
      ]
    },
    {
      "cell_type": "code",
      "metadata": {
        "id": "om-MeP3YFe3X"
      },
      "source": [
        "def merge(list1, list2):\n",
        "  for i in list1:\n",
        "    for j in list2:\n",
        "      if i > j"
      ],
      "execution_count": null,
      "outputs": []
    },
    {
      "cell_type": "code",
      "metadata": {
        "id": "kEgI-ofjFe7Z"
      },
      "source": [
        "# Do not modify this cell\n",
        "assert merge([1, 2, 5], [2, 3, 4]) == [1, 2, 2, 3, 4, 5]\n",
        "assert merge([11, 25, 105],[2, 4, 38]) == [2, 4, 11, 25, 38, 105]\n",
        "assert merge([11, 25, 105],\n",
        "             [1, 2, 3, 4, 5, 6, 7]) == [1, 2, 3, 4, 5, 6, 7, 11, 25, 105]"
      ],
      "execution_count": null,
      "outputs": []
    },
    {
      "cell_type": "markdown",
      "metadata": {
        "id": "MqNXa8vkF1Yp"
      },
      "source": [
        "Problem17. Write a function called `root` that is given a number `x` and an integer `n` and returns $x^\\frac{1}{n}$. In\n",
        "the function definition, set the default value of `n` to `2`.\n",
        "\n",
        "  Գրել `root` անունով ֆունկցիա, որը վերցնում է `x` դրական թիվ և `n` ամբողջ թիվ և վերադարձնում է $x^\\frac{1}{n}$։ Ֆուկցիայի սահմանման մեջ `n`-ի սկզբնական արժեքը դնել 2:\n"
      ]
    },
    {
      "cell_type": "code",
      "metadata": {
        "id": "y6RVEgOyF1dl",
        "colab": {
          "base_uri": "https://localhost:8080/"
        },
        "outputId": "48b0780f-07c0-4a13-f6ab-57a9edc6841b"
      },
      "source": [
        "def root(x, n = 2):\n",
        "  return x ** (1/n)\n",
        "\n",
        "print(root(25, 2))\n",
        "print(root(16))\n",
        "print(root(81, 4))"
      ],
      "execution_count": 31,
      "outputs": [
        {
          "output_type": "stream",
          "name": "stdout",
          "text": [
            "5.0\n",
            "4.0\n",
            "3.0\n"
          ]
        }
      ]
    },
    {
      "cell_type": "code",
      "metadata": {
        "id": "C8ht4-hFF7Lm"
      },
      "source": [
        "# Do not modify this cell\n",
        "assert root(25, 2) == 5.0\n",
        "assert root(16) == 4.0\n",
        "assert root(81, 4) == 3.0"
      ],
      "execution_count": 30,
      "outputs": []
    },
    {
      "cell_type": "markdown",
      "metadata": {
        "id": "MVh8b7q3F-BR"
      },
      "source": [
        "Problem18. Download the `Lab5_article.txt` file to your computer from `Courses/Labs/Lab_files` folder and upload it into your Colab directory.\n",
        "\n",
        "Go over the article and count the frequency of each word. Ignore the following words `{the, of, and, in, to, a, was, on, by, is, which}` and symbols `{'\\n', '(', ')', '.', ' - ', ':', ','}`, also ignore the letter cases (treat all letters as lower case). You should write the overall results to an `output.txt` file, where each line should contain the words and word frequences (separated by a tab '\\t') in descending order of the frequences.\n",
        "\n",
        "  `Courses/Labs/Lab_files` folder֊ից ներբեռնիր `Lab5_article.txt` ֆայլը համակարգչիդ մեջ այնուհետև վերբեռնիր այն Google Colab: Գրիր ծրագիր, որի միջոցով կկարդաս հոդվածը և կհաշվես բառերի հաճախականությունները՝ անտեսելով հետևյալ բառերը․ `{the, of, and, in, to, a, was, on, by, is, which}` և կետադրական նշանները `{'\\n', '(', ')', '.', ' - ', ':', ','}`, ինչպես նաև մեծատառ/փոքրատառերը։ Վերջնարդյունքը պետք է լինի `output.txt` ֆայլի մեջ, որտեղ ամեն տողում գրված կլինի մեկ բառ և դրան համապատասխան հաճախականությունը առանձնացված թաբով ('\\t'), ընդ որում բառերը պետք է գրված լինեն հաճախականությունների նվազման կարգով։"
      ]
    },
    {
      "cell_type": "code",
      "metadata": {
        "id": "0yNbT2zeF-RR"
      },
      "source": [
        "# your code here\n",
        "# Hints: you might want to use string methods such as .replace(), .split()\n",
        "with open('Lab5_article.txt') as f:\n",
        "  # your code here\n",
        "\n",
        "\n",
        "  "
      ],
      "execution_count": null,
      "outputs": []
    },
    {
      "cell_type": "code",
      "metadata": {
        "id": "PXbYsx49F-bF"
      },
      "source": [
        "# Do not modify this cell\n",
        "with open('output.txt') as f:\n",
        "  assert f.readline().replace('\\n','').split('\\t') == ['nagorno-karabakh', '34']\n",
        "  assert f.readline().replace('\\n','').split('\\t') == ['azerbaijan', '25']\n",
        "  assert f.readline().replace('\\n','').split('\\t') == ['armenian', '19']\n",
        "  assert f.readline().replace('\\n','').split('\\t') == ['armenia', '14']\n",
        "  assert f.readline().replace('\\n','').split('\\t') == ['ssr', '12']"
      ],
      "execution_count": null,
      "outputs": []
    },
    {
      "cell_type": "markdown",
      "metadata": {
        "id": "o7TRK0tsHGQ7"
      },
      "source": [
        "Problem19. Suppose weapon assignment is done in the following manner: \n",
        "The soldiers who\n",
        "\n",
        "* are tall (strictly above 180 cm) and slim (below 75 kg), SVD rifle will be assigned to them\n",
        "* are tall (strictly above 180 cm) and phisically well trained (above 75 kg below 120 kg), PK machine gun will be assigned to them\n",
        "* are not so tall (below ($\\leq$) 180 cm and above 165 cm) and weight above 60 kg and less than or equal to 75 kg, RPK-74 is assigned to them\n",
        "* don't belong to any of these groups, AK-74 is assigned to them.\n",
        "\n",
        "Write a function called `weapon_assigner` that takes a soldier's info as a dictionary and returns a list with the following info ['name', 'weapon'].\n",
        "\n",
        "  Դիցուք՝ զինատեսակի ամրակցումը տեղի է ունենում հետևյալ օրենքով․ եթե զինծառայողը\n",
        "\n",
        "  * բարձրահասակ է (>180cm) և նիհար(<75kg), նրա զենքը կլինի SVD տիպի\n",
        "  * բարձրահասակ է (>180cm) և ֆիզիկապես լավ պատրաստված(75kg֊ից ավել և 120 կգ֊ից պակաս), նրա զենքը կլինի PK գնացիր \n",
        "  * բարձրահասակ չէ (180cm֊ից ցածր և 165cm-ից բարձր) և քաշը 60 կգ֊ից բարձր է, բայց ամենաշատը 75 կգ է, ապա նրա զենքը կլինի RPK-74 տիպի\n",
        "  * չի պատկանում վերոնշյալ խմբերից ոչ մեկին, ապա նրա զենքը կլինի AK-74 տիպի։\n",
        "\n",
        "  Գրել `weapon_assigner` անունով ֆունկցիա, որը կվերցնի զինվորի տվյալներ dictionary֊ի միջոցով և կվերադարձնի նրա հետ կապված list՝ հետևյալ ֆորմատով ['անուն', 'զինատեսակ']:  "
      ]
    },
    {
      "cell_type": "code",
      "metadata": {
        "id": "ZJe6o1yiHGVu"
      },
      "source": [],
      "execution_count": null,
      "outputs": []
    },
    {
      "cell_type": "code",
      "metadata": {
        "id": "ZPfEB2zlMHXb"
      },
      "source": [
        "assert weapon_assigner({'name': 'Poghos Poghosyan',\n",
        "                        'height': 175,\n",
        "                        'weight': 75}) == ['Poghos Poghosyan', 'RPK-74']\n",
        "assert weapon_assigner({'name': 'Petros Poghosyan',\n",
        "                        'height': 189,\n",
        "                        'weight': 80}) == ['Petros Poghosyan', 'PK']\n",
        "assert weapon_assigner({'name': 'Poghos Petrosyan',\n",
        "                        'height': 189,\n",
        "                        'weight': 74}) == ['Poghos Petrosyan', 'SVD']"
      ],
      "execution_count": null,
      "outputs": []
    }
  ]
}